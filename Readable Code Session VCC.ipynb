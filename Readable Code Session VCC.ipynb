{
 "cells": [
  {
   "cell_type": "markdown",
   "id": "b7746ff2",
   "metadata": {},
   "source": [
    "# Variable Naming"
   ]
  },
  {
   "cell_type": "markdown",
   "id": "5cc40b19",
   "metadata": {},
   "source": [
    "You already learned about legal variable names, but what makes a good variable name?\n",
    "We've all been there, you're writing a piece of code and you just can't think of what to name your variable. It's tempting to name variables ina quick way by only using one letter, or make it really long to properly explain what it's for, but it's important to mane variables in a clear but concise way. This ensures that if you abandoned your code and someone else picked it up, they would be able to figure out exactly what you meant."
   ]
  },
  {
   "cell_type": "code",
   "execution_count": 10,
   "id": "3a5affcf",
   "metadata": {},
   "outputs": [],
   "source": [
    "#These variables are technically allowed, but they don't communicate their purpose in the most straighforward way \n",
    "a = 5 \n",
    "b = 4\n",
    "themultipleofaandbisequalto = a * b\n",
    "sla = 'Try to avoid non universal acronyms. Would anyone outside Vodafone know what an SLA is?'\n",
    "cat = 'Try to avoid abreviations. Is this cat or category?'\n",
    "foo = 'Try to avoid menaingless names. What is foo?'"
   ]
  },
  {
   "attachments": {},
   "cell_type": "markdown",
   "id": "997cdd89",
   "metadata": {},
   "source": [
    " Some good coding practices for variable names include:\n",
    "\t- Be clear and concise\n",
    "\t- Write your variable names in English (it is the most common language between programmers)\n",
    "\t- Avoid special characters as this can cause issues in your code. Even identical characters from a different alphabet can         cause configuration issues\n",
    "\t- Use distinct names from the key words in the language you are using (in Python an example of these are True, False, else,       elif ect)\n",
    "\t- To make your names easier to read you can either use underscores or capital letters to separate your words (just make sure       you start with a lower case letter as capital letters  tend to be reserved for class names) "
   ]
  },
  {
   "attachments": {},
   "cell_type": "markdown",
   "id": "4601e30f",
   "metadata": {},
   "source": [
    "## Comments \n",
    "\n",
    "Another crucial part of making sure your code can be understood and used by others is commenting.Comments can be used to track who worked on the code and when, what versions the code went through and explain functionality of the code where it's not immediately obvious. It can also help you remind yourself of what your code actually did if you've left it for a long time. In python you can comment a single line by using the # key"
   ]
  },
  {
   "cell_type": "code",
   "execution_count": 9,
   "id": "76065683",
   "metadata": {},
   "outputs": [],
   "source": [
    "#Here is a comment \n",
    "demo_number = 5 #this variable is an integer "
   ]
  },
  {
   "attachments": {},
   "cell_type": "markdown",
   "id": "2f0e62c9",
   "metadata": {},
   "source": [
    "While comments can be written as long sentences for clarity, that short comment phrases are typically better. Annoyingly there is no way of commenting out multiple lines at a time, as there is in other languages such as Java and C.  You can either use a # on every lien or tripple speech marks or apostropes to create multiline strings  '''  '''. Some IDEs have additional functionality to allow you to comment out blocks of code, however, this isn't common in Python.\n",
    "\n",
    "Note: When using Markdown in editors, such as Jupyter Notebooks, a # can be used to create headings"
   ]
  },
  {
   "cell_type": "code",
   "execution_count": 8,
   "id": "f9d434a6",
   "metadata": {},
   "outputs": [
    {
     "data": {
      "text/plain": [
       "'\\nYou can comment\\nout multiple lines\\nlike this\\n'"
      ]
     },
     "execution_count": 8,
     "metadata": {},
     "output_type": "execute_result"
    }
   ],
   "source": [
    "'''\n",
    "You can comment\n",
    "out multiple lines\n",
    "like this\n",
    "'''\n",
    "\n",
    "#Or you can \n",
    "#also do this"
   ]
  },
  {
   "cell_type": "code",
   "execution_count": 2,
   "id": "803d27fd",
   "metadata": {},
   "outputs": [
    {
     "name": "stdout",
     "output_type": "stream",
     "text": [
      "2\n",
      "1.242742\n"
     ]
    }
   ],
   "source": [
    "#Your turn! Can you tell us what this code does?\n",
    "k = float(input())\n",
    "c = 0.621371\n",
    "m = k * c\n",
    "print(m)\n",
    "\n",
    "#Can you change this code to make it clearer? Rename the variables and add comments"
   ]
  },
  {
   "attachments": {},
   "cell_type": "markdown",
   "id": "66de79e0",
   "metadata": {},
   "source": [
    "## Indentation\n",
    "\n",
    "Indentation in Python is very important. Unlike C or Java which uses brackets to indicate a block of code, Python uses indentation. Without this, Python doesn't know when a piece of code begins or ends and will cause an indentation error when running. Indentations are used for if/else statements, loops or functions. The notation used for indentation in Python either uses one tab button or 4 spaces (this is down to personal preference). Just don't use a mixture of spaces and tabs as this can cause errors in your code.\n",
    "Note: Indentation is always a good coding practice, even in languages that don't require it to indicate blocks of code"
   ]
  },
  {
   "cell_type": "code",
   "execution_count": 7,
   "id": "bedeb107",
   "metadata": {},
   "outputs": [
    {
     "name": "stdout",
     "output_type": "stream",
     "text": [
      "1\n",
      "2\n",
      "3\n",
      "4\n",
      "5\n"
     ]
    }
   ],
   "source": [
    "j = 1\n",
    "\n",
    "while(j<= 5):\n",
    "    print(j)\n",
    "    j = j + 1"
   ]
  },
  {
   "attachments": {},
   "cell_type": "markdown",
   "id": "5899ad85",
   "metadata": {},
   "source": [
    "## Writing an easy to follow script\n",
    "\n",
    "As you begin to grasp the general workflow associated with programming in Python, it is important to be able to write a script that is clean and somewhat expected for the reader. Common things to avoid include:"
   ]
  },
  {
   "cell_type": "code",
   "execution_count": null,
   "id": "2eeb7f05",
   "metadata": {},
   "outputs": [],
   "source": [
    "#Long lines of code that make following what is going on difficult\n",
    "#Rather than\n",
    "animals = [\"cat\", \"dog\", \"fish\", \"turtle\", \"lion\", \"zebra\", \"panda\", \"bird\"]\n",
    "print(\"Here are some animals I would like to print off:\", \", \".join(animals), \"whilst also showing how to make long lines of code much more readable\")\n",
    "\n",
    "#Instead\n",
    "animals = [\"cat\", \"dog\", \"fish\", \"turtle\", \"lion\", \"zebra\", \"panda\", \"bird\"]\n",
    "print(\n",
    "    \"Here are some animals I would like to print off:\",\n",
    "    \", \".join(animals),\n",
    "    \"whilst also showing how to make long lines of code much more readable\"\n",
    ")"
   ]
  },
  {
   "cell_type": "code",
   "execution_count": null,
   "id": "7945d640",
   "metadata": {},
   "outputs": [],
   "source": [
    "#Duplication of code\n",
    "#Rather than\n",
    "from random import randint\n",
    "numA = randint(0, 100)\n",
    "numB = randint(0, 100)\n",
    "answerA = numA * 2\n",
    "answerA = answerA + 10\n",
    "answerA = answerA / 2\n",
    "answerA = answerA - numA\n",
    "answerB = numB * 2\n",
    "answerB = answerB + 10\n",
    "answerB = answerB / 2\n",
    "answerB = answerB - numB\n",
    "\n",
    "#Instead\n",
    "from random import randint\n",
    "def alwaysFive(inputNum):\n",
    "    answer = inputNum * 2\n",
    "    answer = answer + 10\n",
    "    answer = answer / 2\n",
    "    answer = answer - inputNum\n",
    "    return answer\n",
    "print(alwaysFive(randint(0,100)))\n",
    "print(alwaysFive(randint(0,100)))"
   ]
  },
  {
   "cell_type": "code",
   "execution_count": 11,
   "id": "9bcccf15",
   "metadata": {},
   "outputs": [
    {
     "data": {
      "text/html": [
       "<div>\n",
       "<style scoped>\n",
       "    .dataframe tbody tr th:only-of-type {\n",
       "        vertical-align: middle;\n",
       "    }\n",
       "\n",
       "    .dataframe tbody tr th {\n",
       "        vertical-align: top;\n",
       "    }\n",
       "\n",
       "    .dataframe thead th {\n",
       "        text-align: right;\n",
       "    }\n",
       "</style>\n",
       "<table border=\"1\" class=\"dataframe\">\n",
       "  <thead>\n",
       "    <tr style=\"text-align: right;\">\n",
       "      <th></th>\n",
       "      <th>0</th>\n",
       "    </tr>\n",
       "  </thead>\n",
       "  <tbody>\n",
       "    <tr>\n",
       "      <th>a</th>\n",
       "      <td>1</td>\n",
       "    </tr>\n",
       "    <tr>\n",
       "      <th>b</th>\n",
       "      <td>2</td>\n",
       "    </tr>\n",
       "    <tr>\n",
       "      <th>c</th>\n",
       "      <td>3</td>\n",
       "    </tr>\n",
       "    <tr>\n",
       "      <th>d</th>\n",
       "      <td>4</td>\n",
       "    </tr>\n",
       "    <tr>\n",
       "      <th>e</th>\n",
       "      <td>5</td>\n",
       "    </tr>\n",
       "    <tr>\n",
       "      <th>f</th>\n",
       "      <td>6</td>\n",
       "    </tr>\n",
       "  </tbody>\n",
       "</table>\n",
       "</div>"
      ],
      "text/plain": [
       "   0\n",
       "a  1\n",
       "b  2\n",
       "c  3\n",
       "d  4\n",
       "e  5\n",
       "f  6"
      ]
     },
     "execution_count": 11,
     "metadata": {},
     "output_type": "execute_result"
    }
   ],
   "source": [
    "#Not logically grouping code\n",
    "#Rather than \n",
    "import numpy as np\n",
    "\n",
    "arrayA = np.array([1,2,3,4,5,6])\n",
    "arrayB = np.array(['a','b', 'c', 'd', 'e', 'f'])\n",
    "\n",
    "import pandas as pd\n",
    "\n",
    "pd.DataFrame(arrayA, arrayB)\n",
    "\n",
    "#Instead\n",
    "import numpy as np\n",
    "import pandas as pd\n",
    "\n",
    "arrayA = np.array([1,2,3,4,5,6])\n",
    "arrayB = np.array(['a','b', 'c', 'd', 'e', 'f'])\n",
    "\n",
    "pd. DataFrame(arrayA, arrayB)"
   ]
  },
  {
   "cell_type": "code",
   "execution_count": null,
   "id": "9d7d3e9a",
   "metadata": {},
   "outputs": [],
   "source": []
  }
 ],
 "metadata": {
  "kernelspec": {
   "display_name": "Python 3",
   "language": "python",
   "name": "python3"
  },
  "language_info": {
   "codemirror_mode": {
    "name": "ipython",
    "version": 3
   },
   "file_extension": ".py",
   "mimetype": "text/x-python",
   "name": "python",
   "nbconvert_exporter": "python",
   "pygments_lexer": "ipython3",
   "version": "3.8.8"
  }
 },
 "nbformat": 4,
 "nbformat_minor": 5
}
